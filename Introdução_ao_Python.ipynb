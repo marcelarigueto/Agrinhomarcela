{
  "nbformat": 4,
  "nbformat_minor": 0,
  "metadata": {
    "colab": {
      "provenance": [],
      "authorship_tag": "ABX9TyPQfIN3KGFOCONQHVXZG1UG",
      "include_colab_link": true
    },
    "kernelspec": {
      "name": "python3",
      "display_name": "Python 3"
    },
    "language_info": {
      "name": "python"
    }
  },
  "cells": [
    {
      "cell_type": "markdown",
      "metadata": {
        "id": "view-in-github",
        "colab_type": "text"
      },
      "source": [
        "<a href=\"https://colab.research.google.com/github/marcelarigueto/Agrinhomarcela/blob/main/Introdu%C3%A7%C3%A3o_ao_Python.ipynb\" target=\"_parent\"><img src=\"https://colab.research.google.com/assets/colab-badge.svg\" alt=\"Open In Colab\"/></a>"
      ]
    },
    {
      "cell_type": "markdown",
      "source": [
        "## Aula 1"
      ],
      "metadata": {
        "id": "FQXQpO2B17aU"
      }
    },
    {
      "cell_type": "code",
      "source": [
        "print(\"I Competição de Programação da Start\")"
      ],
      "metadata": {
        "colab": {
          "base_uri": "https://localhost:8080/"
        },
        "id": "mg8WovaUzee-",
        "outputId": "7d24d4a4-85e7-4ce5-9a78-47a85e1e6424"
      },
      "execution_count": null,
      "outputs": [
        {
          "output_type": "stream",
          "name": "stdout",
          "text": [
            "I Competição de Programação da Start\n"
          ]
        }
      ]
    },
    {
      "cell_type": "code",
      "source": [
        "ano = \"II\"\n",
        "print(ano, \"Competição de Programação da Start\")"
      ],
      "metadata": {
        "colab": {
          "base_uri": "https://localhost:8080/"
        },
        "id": "tfLnsLe4zezW",
        "outputId": "6427c2f5-189e-48b9-94ee-c1fee1cb4177"
      },
      "execution_count": null,
      "outputs": [
        {
          "output_type": "stream",
          "name": "stdout",
          "text": [
            "II Competição de Programação da Start\n"
          ]
        }
      ]
    },
    {
      "cell_type": "code",
      "source": [
        "print(f\"{ano} Competição de Programação da Start\")"
      ],
      "metadata": {
        "colab": {
          "base_uri": "https://localhost:8080/"
        },
        "id": "zbOQEVV30vPm",
        "outputId": "a9792c62-b21d-4f1b-a828-ef16c222d4de"
      },
      "execution_count": null,
      "outputs": [
        {
          "output_type": "stream",
          "name": "stdout",
          "text": [
            "II Competição de Programação da Start\n"
          ]
        }
      ]
    },
    {
      "cell_type": "markdown",
      "source": [
        "## Aula 2"
      ],
      "metadata": {
        "id": "DxFYCSM02CKc"
      }
    },
    {
      "cell_type": "markdown",
      "source": [
        "Contexto:\n",
        "\n",
        "Uma escola está promovendo uma campanha de incentivo à leitura, em que cada estudante recebe pontos ao concluir livros. Esses pontos podem ser trocados por diferentes prêmios da escola. As categorias de livros têm valores de ponto diferentes:\n",
        "\n",
        "Livro de ficção: 10 pontos\n",
        "\n",
        "Livro de não-ficção: 8 pontos\n",
        "\n",
        "Livro infantil: 6 pontos\n",
        "\n",
        "**Problema:**\n",
        "\n",
        "Rodrigo leu um livro de cada categoria. Agora ele quer saber quantos pontos acumulou com sua leitura.\n",
        "\n",
        "Nosso objetivo é criar um programa Python que:\n",
        "\n",
        "Armazene a pontuação de cada categoria de livro em uma variável.\n",
        "\n",
        "Calcule o total de pontos acumulados por Rodrigo.\n",
        "\n",
        "Mostre na tela o total de pontos acumulados por Rodrigo.\n"
      ],
      "metadata": {
        "id": "T4hvvXN92fTg"
      }
    },
    {
      "cell_type": "code",
      "source": [
        "livro_ficcao = 10\n",
        "livro_nficcao = 8\n",
        "livro_infantil = 6\n",
        "\n",
        "pontos_rodrigo = livro_ficcao + livro_nficcao + livro_infantil\n",
        "\n",
        "print(f\"Os pontos totais do Rodrigo são: {pontos_rodrigo}\")"
      ],
      "metadata": {
        "colab": {
          "base_uri": "https://localhost:8080/"
        },
        "id": "wBUn8EbT46qx",
        "outputId": "e7564487-005f-42a5-98e5-ba166ab083b0"
      },
      "execution_count": null,
      "outputs": [
        {
          "output_type": "stream",
          "name": "stdout",
          "text": [
            "Os pontos totais do Rodrigo são: 24\n"
          ]
        }
      ]
    },
    {
      "cell_type": "markdown",
      "source": [
        "Ana também participou da campanha e leu 2 livros de ficção e 5 livros infantis.\n",
        "\n",
        "Como podemos calcular o total de pontos de Ana? Será que é possível calcular o total de pontos acumulados por Rodrigo e Ana juntos?"
      ],
      "metadata": {
        "id": "LRuYZmAe6Kkp"
      }
    },
    {
      "cell_type": "markdown",
      "source": [
        "## Aula 3\n",
        "\n",
        "A turma do 2° ano encontrou um envelope cheio de figurinhas. Para garantir uma divisão justa, todos concordaram com a sugestão de João, o dono do envelope:\n",
        "\n",
        "Cada amigo, exceto João, deve receber exatamente o mesmo número de figurinhas. João deve receber o dobro da quantidade que cada amigo recebe. Pode ser que o fato de João ser o dono do envelope tenha ajudado a convencer os amigos, mas também contribuiu o fato de que, do jeito proposto, a divisão era exata, sem sobrar nem faltar figurinhas.\n",
        "\n",
        "**Problema:**\n",
        "\n",
        "Crie um programa que determine a quantidade de figurinhas que João recebeu, dado o número total de figurinhas no envelope e o número de amigos de João.\n",
        "\n",
        "**Entrada:**\n",
        "\n",
        "A primeira linha contém um número inteiro total_figurinhas, que representa o número de figurinhas no envelope.\n",
        "\n",
        "A segunda linha contém um número inteiro numero_amigos, que representa a quantidade de amigos de João (excluindo o próprio João)."
      ],
      "metadata": {
        "id": "fSSDeB7RvUCR"
      }
    },
    {
      "cell_type": "code",
      "source": [
        "total_figurinhas = int(input(\"Digite o total de figurinhas:\"))\n",
        "numero_amigos = int(input(\"Digite o número de amigos:\"))\n",
        "\n",
        "figurinhas_amigos = total_figurinhas // (numero_amigos + 2)\n",
        "figurinhas_joao = 2 * figurinhas_amigos\n",
        "\n",
        "print(f\"João recebeu {figurinhas_joao} figurinhas.\")"
      ],
      "metadata": {
        "colab": {
          "base_uri": "https://localhost:8080/"
        },
        "id": "tUbCSNevx5P9",
        "outputId": "d9cd1bcd-1867-4450-f6ee-51ccbc8e0c2a"
      },
      "execution_count": 1,
      "outputs": [
        {
          "output_type": "stream",
          "name": "stdout",
          "text": [
            "Digite o total de figurinhas:100\n",
            "Digite o número de amigos:5\n",
            "João recebeu 28 figurinhas.\n"
          ]
        }
      ]
    },
    {
      "cell_type": "markdown",
      "source": [
        "Depois de dividir as figurinhas no recreio, João percebeu que ainda havia algumas figurinhas extras em sua mochila. Ele decidiu que essas figurinhas extras também devem ser distribuídas de forma justa entre ele e seus amigos, mantendo a mesma regra:\n",
        "\n",
        "Cada amigo recebe uma quantidade igual de figurinhas. João recebe o dobro da quantidade de figurinhas que cada amigo recebe. Ajude João a distribuir todas as figurinhas, incluindo as extras, de maneira justa, sem deixar nenhuma figurinha sobrando."
      ],
      "metadata": {
        "id": "s96uXcFXy7LS"
      }
    },
    {
      "cell_type": "code",
      "source": [
        "def distribuir_figurinhas(total_figurinhas, numero_amigos, figurinhas_extras):\n",
        "\n",
        "    partes = numero_amigos + 2\n",
        "\n",
        "\n",
        "    total_distribuicao = total_figurinhas + figurinhas_extras\n",
        "\n",
        "\n",
        "    x = total_distribuicao // partes\n",
        "\n",
        "\n",
        "    figurinhas_joao = 2 * figurinhas_amigos\n",
        "\n",
        "\n",
        "    return figurinhas_joao\n",
        "\n",
        "\n",
        "total_figurinhas = int(input(\"Digite o total de figurinhas: \"))\n",
        "numero_amigos = int(input(\"Digite o número de amigos de João: \"))\n",
        "figurinhas_extras = int(input(\"Digite o número de figurinhas extras que João tem: \"))\n",
        "\n",
        "\n",
        "figurinhas_joao = distribuir_figurinhas(total_figurinhas, numero_amigos, figurinhas_extras)\n",
        "print(f\"João recebeu {figurinhas_joao} figurinhas.\")\n",
        "\n"
      ],
      "metadata": {
        "colab": {
          "base_uri": "https://localhost:8080/"
        },
        "id": "kbzcR4sj0fBn",
        "outputId": "322b0ab6-d578-4452-fa61-ec8b95edbf56"
      },
      "execution_count": 6,
      "outputs": [
        {
          "output_type": "stream",
          "name": "stdout",
          "text": [
            "Digite o total de figurinhas: 100\n",
            "Digite o número de amigos de João: 5\n",
            "Digite o número de figurinhas extras que João tem: 10\n",
            "João recebeu 28 figurinhas.\n"
          ]
        }
      ]
    },
    {
      "cell_type": "markdown",
      "source": [
        "## Aula 4\n",
        "\n",
        "A turma de um colégio está organizando uma excursão para a serra, e, para chegar ao topo da montanha, todos os alunos e monitores devem usar um bondinho. No entanto, a cabine do bondinho tem uma capacidade máxima de 50 pessoas por viagem.\n",
        "\n",
        "Você precisa criar um programa que verifique se todos os alunos e monitores podem ser transportados em apenas uma viagem.\n",
        "\n",
        "**Entrada**\n",
        "\n",
        "Um número inteiro numero_alunos, representando a quantidade de alunos na excursão.\n",
        "\n",
        "Um número inteiro numero_monitores, representando a quantidade de monitores na excursão."
      ],
      "metadata": {
        "id": "ReKVt3hB1sgk"
      }
    },
    {
      "cell_type": "code",
      "source": [
        "numero_alunos = int(input(\"Digite a quantidade de alunos:\"))\n",
        "numeros_monitores = int(input(\"Digite a quantidade de monitores:\"))\n",
        "resposta_positiva = \"Pode ir\"\n",
        "resposta_negativa = \"Não pode ir\"\n",
        "\n",
        "if numero_alunos + numeros_monitores <= 50:\n",
        "  print(resposta_positiva)\n",
        "else:\n",
        "  print(resposta_negativa)"
      ],
      "metadata": {
        "colab": {
          "base_uri": "https://localhost:8080/"
        },
        "id": "64Ls4MPm2_xS",
        "outputId": "4ac25abd-3c5f-4a86-fe19-922ba430495b"
      },
      "execution_count": 7,
      "outputs": [
        {
          "output_type": "stream",
          "name": "stdout",
          "text": [
            "Digite a quantidade de alunos:55\n",
            "Digite a quantidade de monitores:10\n",
            "Não pode ir\n"
          ]
        }
      ]
    },
    {
      "cell_type": "markdown",
      "source": [
        "Agora, imagine que infelizmente o bondinho que carrega 50 pessoas está em manutenção e agora todo mundo vai precisar usar um bondinho menos sofisticado e ele só pode levar 30 pessoas. Além disso, 8 professores do colégio também vão participar da excursão. Como fazemos para garantir que o número total de pessoas no bondinho (alunos, monitores e professores) não ultrapasse a capacidade máxima de 30 pessoas?\n",
        "\n",
        "Seu desafio é escrever um programa que verifique se é possível ou não levar todos em apenas uma viagem.\n"
      ],
      "metadata": {
        "id": "nuZWzbdW3y9f"
      }
    },
    {
      "cell_type": "code",
      "source": [
        "def verificar_viagem(numero_alunos, numero_monitores):\n",
        "\n",
        "    numero_professores = 8\n",
        "\n",
        "\n",
        "    capacidade_maxima = 30\n",
        "\n",
        "\n",
        "    total_pessoas = numero_alunos + numero_monitores + numero_professores\n",
        "\n",
        "\n",
        "    if total_pessoas <= capacidade_maxima:\n",
        "        return \"Todos podem ir em uma única viagem.\"\n",
        "    else:\n",
        "        return \"Será necessário mais de uma viagem.\"\n",
        "\n",
        "\n",
        "numero_alunos = int(input(\"Digite o número de alunos: \"))\n",
        "numero_monitores = int(input(\"Digite o número de monitores: \"))\n",
        "\n",
        "\n",
        "resultado = verificar_viagem(numero_alunos, numero_monitores)\n",
        "print(resultado)\n"
      ],
      "metadata": {
        "colab": {
          "base_uri": "https://localhost:8080/"
        },
        "id": "Oh9KawM74xNq",
        "outputId": "8eda1d4c-8dfc-4ab7-eff8-e014967dc9b4"
      },
      "execution_count": 8,
      "outputs": [
        {
          "output_type": "stream",
          "name": "stdout",
          "text": [
            "Digite o número de alunos: 50\n",
            "Digite o número de monitores: 3\n",
            "Será necessário mais de uma viagem.\n"
          ]
        }
      ]
    },
    {
      "cell_type": "markdown",
      "source": [
        "## Aula 5\n",
        "Flipper é um jogo em que uma bolinha de metal cai por um labirinto até chegar à parte inferior. O jogador ganha pontos dependendo do caminho que a bolinha percorre, podendo controlar o trajeto movendo algumas portinhas no labirinto. Cada portinha pode estar em duas posições: 0, virada para a esquerda, ou 1, virada para a direita.\n",
        "\n",
        "No Flipper mostrado na imagem, há duas portinhas. A portinha P está na posição 1, virada para a direita, e a portinha R está na posição 0, virada para a esquerda. Isso faz com que a bolinha caia no caminho B.\n",
        "\n",
        "O programa que você deve escrever precisa, dado o valor das posições de P e R, informar por qual dos três caminhos (A, B ou C) a bolinha vai cair.\n",
        "\n",
        "**Entrada**\n",
        "\n",
        "As entradas correspondem a um valor inteiro P (0 ou 1) que indicam as posições das portinhas do Flipper."
      ],
      "metadata": {
        "id": "ya5I9HMM6Qca"
      }
    },
    {
      "cell_type": "code",
      "source": [
        "p = int(input(\"Digite a posição da porta (0 ou 1):\"))\n",
        "r = int(input(\"Digite a posição da porta (0 ou 1):\"))\n",
        "if p==0 and r==0:\n",
        "  print(\"C\")\n",
        "elif p==0 and r==1:\n",
        "  print(\"C\")\n",
        "elif p==1 and r==1:\n",
        "  print(\"A\")\n",
        "else:\n",
        "  print(\"B\")"
      ],
      "metadata": {
        "colab": {
          "base_uri": "https://localhost:8080/"
        },
        "id": "wwZW1tP67Vzo",
        "outputId": "69694e69-e682-473a-f928-83c88aff2c64"
      },
      "execution_count": 9,
      "outputs": [
        {
          "output_type": "stream",
          "name": "stdout",
          "text": [
            "Digite a posição da porta (0 ou 1):1\n",
            "Digite a posição da porta (0 ou 1):0\n",
            "B\n"
          ]
        }
      ]
    },
    {
      "cell_type": "markdown",
      "source": [
        "Agora, imagine que o jogo de flíper ficou mais complexo e há 3 portinhas que podem influenciar o caminho da bolinha.\n",
        "\n",
        "As portinhas funcionam da seguinte forma:\n",
        "\n",
        "A portinha P decide entre os caminhos iniciais.\n",
        "\n",
        "A portinha R ajusta o trajeto no meio.\n",
        "\n",
        "Uma nova portinha Q foi adicionada. Ela define se o caminho final incluirá uma letra extra, D, quando estiver na posição 1.\n",
        "\n",
        "Atualize o programa para incluir a lógica da terceira portinha:\n",
        "\n",
        "Se a portinha Q estiver na posição 1, deve ser exibida a letra D."
      ],
      "metadata": {
        "id": "1vx7ANW88LG0"
      }
    },
    {
      "cell_type": "code",
      "source": [
        "\n",
        "P = int(input(\"Digite a posição da portinha P (0 ou 1): \"))\n",
        "R = int(input(\"Digite a posição da portinha R (0 ou 1): \"))\n",
        "Q = int(input(\"Digite a posição da portinha Q (0 ou 1): \"))\n",
        "\n",
        "\n",
        "if Q == 1:\n",
        "    print(\"D\")\n",
        "else:\n",
        "    if P == 0:\n",
        "        print(\"C\")\n",
        "    elif R == 0:\n",
        "        print(\"B\")\n",
        "    else:\n",
        "        print(\"A\")\n"
      ],
      "metadata": {
        "colab": {
          "base_uri": "https://localhost:8080/"
        },
        "id": "qqsrJaIX9WLg",
        "outputId": "0ef84f92-c82d-4381-b58b-ef44a93f483e"
      },
      "execution_count": 10,
      "outputs": [
        {
          "output_type": "stream",
          "name": "stdout",
          "text": [
            "Digite a posição da portinha P (0 ou 1): 1\n",
            "Digite a posição da portinha R (0 ou 1): 1\n",
            "Digite a posição da portinha Q (0 ou 1): 0\n",
            "A\n"
          ]
        }
      ]
    }
  ]
}